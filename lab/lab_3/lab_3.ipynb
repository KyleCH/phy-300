{
 "cells": [
  {
   "cell_type": "markdown",
   "metadata": {},
   "source": [
    "# Lab 3: Two Coupled Oscillators\n",
    "\n",
    "> In this section we will consider a &ldquo;two mass three\n",
    "> springs&rdquo; system.  The arrangement is similar to the system\n",
    "> depicted in the Figure at the beginning of this worksheet, except the\n",
    "> masses and springs are arranged vertically.  When the masses are in\n",
    "> equilibrium, the gravitational force is compensated by forces due to\n",
    "> the springs.  If we measure the displacements from the equilibrium\n",
    "> position, we do not need to consider the effect of gravity.  We also\n",
    "> added a disc to create a damping force, just like in the Worksheet #2\n",
    "> experiment.\n",
    ">\n",
    "> In the first part of the lab we will look at the free oscillations;\n",
    "> the second part is about forced oscillations."
   ]
  },
  {
   "cell_type": "markdown",
   "metadata": {},
   "source": [
    "## Part 1: Free Oscillations"
   ]
  },
  {
   "cell_type": "markdown",
   "metadata": {},
   "source": [
    "> 1. Start by initiating motion in the first normal (lower frequency)\n",
    ">    mode by hand.  How can you do this?  Measure the frequency of\n",
    ">    oscillation by using the motion sensor and fitting the measured\n",
    ">    response.  Describe the motion of the two masses."
   ]
  },
  {
   "cell_type": "markdown",
   "metadata": {},
   "source": [
    "> 2. Initiate motion in the second normal mode.  Measure the frequency\n",
    ">    of oscillation by using the motion sensor and fitting the measured\n",
    ">    response."
   ]
  },
  {
   "cell_type": "markdown",
   "metadata": {},
   "source": [
    "## Part 2: Forced Oscillations\n",
    "\n",
    "> 3. Connect the driver to the signal generator.  Measure the amplitude\n",
    ">    of the motion for the bottom mass as a function of the drive\n",
    ">    frequency, scanning around the two normal mode frequencies you\n",
    ">    determined before.  (Use $f = \\omega / 2 \\pi$ to calculate the\n",
    ">    frequency from the angular frequency.)  Try to measure the\n",
    ">    amplitude at about 20 different frequencies.  You may not want to\n",
    ">    choose frequencies spaced by the same amount at all points on the\n",
    ">    graph.  Here are some suggested frequencies to measure at:\n",
    ">\n",
    ">    $f_\\text{drive} = f_1 + 0.20 \\, \\text{Hz}, f_1 + 0.15 \\, \\text{Hz},\n",
    ">    f_1 + 0.10 \\, \\text{Hz}, f_1 + 0.08 \\, \\text{Hz},\n",
    ">    f_1 + 0.06 \\, \\text{Hz}, f_1 + 0.05 \\, \\text{Hz},\n",
    ">    f_1 + 0.04 \\, \\text{Hz}, f_1 + 0.03 \\, \\text{Hz},\n",
    ">    f_1 + 0.02 \\, \\text{Hz}, f_1 + 0.01 \\, \\text{Hz},\n",
    ">    f_1, f_1 - 0.01 \\, \\text{Hz}, f_1 - 0.02 \\, \\text{Hz},\n",
    ">    f_1 - 0.03 \\, \\text{Hz}, f_1 - 0.04 \\, \\text{Hz},\n",
    ">    f_1 - 0.05 \\, \\text{Hz}, f_1 - 0.06 \\, \\text{Hz},\n",
    ">    f_1 - 0.08 \\, \\text{Hz}, f_1 - 0.10 \\, \\text{Hz},\n",
    ">    f_1 - 0.15 \\, \\text{Hz}, f_1 - 0.20 \\, \\text{Hz}$ and similarly\n",
    ">    around the second resonance frequency."
   ]
  },
  {
   "cell_type": "markdown",
   "metadata": {},
   "source": [
    "> 4. Graph your measured amplitude vs frequency.  It is recommended that\n",
    ">    you make this graph before you leave the lab, because you want to\n",
    ">    be sure that the peaks are approximately in the middle of the\n",
    ">    frequency range of your measurements."
   ]
  },
  {
   "cell_type": "markdown",
   "metadata": {},
   "source": [
    "> 5. Calculate the quantity $y = \\omega^2 A^2$.  From the measured\n",
    ">    amplitude $A$.  As we discussed in Worksheet #2, this quantity is\n",
    ">    proportional to the power dissipation that follows a Lorentzian\n",
    ">    frequency dependence of\n",
    ">\n",
    ">    $$ y = \\cfrac{B}{4 \\left(\\omega_0 - \\omega\\right)^2 + \\gamma^2} $$\n",
    ">\n",
    ">    (This expression is valid if the two resonance peaks are well\n",
    ">    separated.)  Fit a Lorentzian to each resonance peak, and extract\n",
    ">    the parameters $\\omega_0$ and $\\gamma$ for each peak."
   ]
  },
  {
   "cell_type": "markdown",
   "metadata": {},
   "source": [
    "## Lab Report\n",
    "\n",
    "> In your formal lab report,\n",
    ">\n",
    "> - Summarize the experimental procedure,\n",
    "> - Report the values of the normal mode frequencies (with uncertainty)\n",
    ">   determined from the free oscillations.\n",
    "> - Provide a graph of the measured amplitude vs. frequency.\n",
    "> - Provide a graph of the evaluated $y = \\omega^2 A^2$ vs. frequency,\n",
    ">   together with the fitted Lorentzian curves.\n",
    "> - Report the normal mode frequencies and damping parameters obtained\n",
    ">   from the Lorentzian fits (with uncertainty).\n",
    "> - Compare the resonance frequencies to the values determined in the\n",
    ">   answer to Question 3 of this worksheet and discuss the reasons for\n",
    ">   the imperfect agreement."
   ]
  }
 ],
 "metadata": {
  "kernelspec": {
   "display_name": "phy-300",
   "language": "python",
   "name": "python3"
  },
  "language_info": {
   "name": "python",
   "version": "3.12.5"
  }
 },
 "nbformat": 4,
 "nbformat_minor": 2
}
